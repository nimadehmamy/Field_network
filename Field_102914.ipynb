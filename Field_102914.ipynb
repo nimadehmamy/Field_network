{
 "metadata": {
  "name": "",
  "signature": "sha256:be2bc8c61d8bdafdd376a7e983d9ea91ac679b30d9ee3296b1df8ed6ac24863a"
 },
 "nbformat": 3,
 "nbformat_minor": 0,
 "worksheets": [
  {
   "cells": [
    {
     "cell_type": "code",
     "collapsed": false,
     "input": [
      "%pylab inline\n",
      "import pandas as pd\n",
      "\n",
      "import subprocess\n",
      "import os"
     ],
     "language": "python",
     "metadata": {},
     "outputs": [
      {
       "output_type": "stream",
       "stream": "stdout",
       "text": [
        "Populating the interactive namespace from numpy and matplotlib\n"
       ]
      },
      {
       "output_type": "stream",
       "stream": "stderr",
       "text": [
        "/usr/local/lib/python2.7/dist-packages/pandas/io/excel.py:626: UserWarning: Installed openpyxl is not supported at this time. Use >=1.6.1 and <2.0.0.\n",
        "  .format(openpyxl_compat.start_ver, openpyxl_compat.stop_ver))\n"
       ]
      }
     ],
     "prompt_number": 1
    },
    {
     "cell_type": "code",
     "collapsed": false,
     "input": [
      "pth=\"/home/nimadt/Downloads/Field_network/\"\n",
      "os.chdir(pth)"
     ],
     "language": "python",
     "metadata": {},
     "outputs": [],
     "prompt_number": 2
    },
    {
     "cell_type": "code",
     "collapsed": false,
     "input": [
      "N=5000\n",
      "N_hub=200\n",
      "batch=4\n",
      "Dt_max= 1.e-3\n",
      "dt= 2.e-5"
     ],
     "language": "python",
     "metadata": {},
     "outputs": [],
     "prompt_number": 3
    },
    {
     "cell_type": "code",
     "collapsed": false,
     "input": [
      "# run the C++ code with parameters\n",
      "subprocess.call([\"./bin/field2.exe\" \\\n",
      "                         ,str(N), str(N_hub), str(batch), str(Dt_max), str(dt)])"
     ],
     "language": "python",
     "metadata": {},
     "outputs": [
      {
       "metadata": {},
       "output_type": "pyout",
       "prompt_number": 4,
       "text": [
        "0"
       ]
      }
     ],
     "prompt_number": 4
    },
    {
     "cell_type": "code",
     "collapsed": false,
     "input": [
      "x=pd.read_table(\"output/degrees-N=%d,N_hub=%d,Dt_max=%.2g,dt=%.2g.txt\"%(N,N_hub,Dt_max,dt), sep=\" \", header=None)\n",
      "#\"/home/nimadt/Downloads/Field_network/output/degrees-%d-%d.txt\"%(N,N_hub), sep=\" \", header=None)"
     ],
     "language": "python",
     "metadata": {},
     "outputs": [],
     "prompt_number": 5
    },
    {
     "cell_type": "code",
     "collapsed": false,
     "input": [
      "\"output/degrees-N=%d,N_hub=%d,Dt_max=%.2g,dt=%.2g.txt\"%(N,N_hub,Dt_max,dt)"
     ],
     "language": "python",
     "metadata": {},
     "outputs": [
      {
       "metadata": {},
       "output_type": "pyout",
       "prompt_number": 141,
       "text": [
        "'output/degrees-N=8000,N_hub=2000,Dt_max=0.0001,dt=2e-06.txt'"
       ]
      }
     ],
     "prompt_number": 141
    },
    {
     "cell_type": "code",
     "collapsed": false,
     "input": [
      "x.values.shape"
     ],
     "language": "python",
     "metadata": {},
     "outputs": [
      {
       "metadata": {},
       "output_type": "pyout",
       "prompt_number": 178,
       "text": [
        "(125400, 3)"
       ]
      }
     ],
     "prompt_number": 178
    },
    {
     "cell_type": "code",
     "collapsed": false,
     "input": [
      "bns=50\n",
      "hs=hist(x.values[:,0],bns)"
     ],
     "language": "python",
     "metadata": {},
     "outputs": [
      {
       "metadata": {},
       "output_type": "display_data",
       "png": "[encoded data removed]",
       "text": [
        "<matplotlib.figure.Figure at 0x336b250>"
       ]
      }
     ],
     "prompt_number": 6
    },
    {
     "cell_type": "code",
     "collapsed": false,
     "input": [
      "plot((hs[1][1:]),hs[0],'o')\n",
      "xscale('log')\n",
      "yscale('log')\n",
      "\n",
      "s=1e-2\n",
      "x1=linspace(.1/s,1e2/s,10)\n",
      "c1=5e3\n",
      "plot(x1,c1/(x1*s),'b')\n",
      "plot(x1,c1/(x1*s)**2,'r')\n",
      "plot(x1,c1/(x1*s)**1.5,'g')\n",
      "legend(['data','-1','-2','-1.5'])\n",
      "title(r'$N$=%d, $N_{\\mathrm{hub}}$=%d, $Dt_{\\mathrm{max}}$=%.1g, $dt$=%.1g'%(N,N_hub, Dt_max, dt),fontsize=16)\n",
      "ylabel(r'$P(k)$',fontsize=18)\n",
      "xlabel(r'$k$',fontsize=18)\n",
      "savefig(\"plots/fit3,deg-dist,N=%d,N_hub=%d,Dt_max=%.2g,dt=%.2g, %dbins.pdf\"%(N,N_hub,Dt_max,dt,bns))\n",
      "savefig(\"plots/fit3,deg-dist,N=%d,N_hub=%d,Dt_max=%.2g,dt=%.2g, %dbins.png\"%(N,N_hub,Dt_max,dt,bns))\n",
      "\n",
      "show()"
     ],
     "language": "python",
     "metadata": {},
     "outputs": [
      {
       "metadata": {},
       "output_type": "display_data",
       "png": "[encoded data removed]",
       "text": [
        "<matplotlib.figure.Figure at 0x35fa910>"
       ]
      }
     ],
     "prompt_number": 14
    },
    {
     "cell_type": "code",
     "collapsed": false,
     "input": [
      "romax=1000.\n",
      "c=(1/2.*(1-1./romax**2))\n",
      "ra=rand(10000)*c"
     ],
     "language": "python",
     "metadata": {},
     "outputs": [],
     "prompt_number": 54
    },
    {
     "cell_type": "code",
     "collapsed": false,
     "input": [
      "hs"
     ],
     "language": "python",
     "metadata": {},
     "outputs": [
      {
       "metadata": {},
       "output_type": "pyout",
       "prompt_number": 75,
       "text": [
        "(array([15743,     5,     0,     1,     0,     0,     0,     0,     1,\n",
        "            1,     0,     0,     1,     0,     0,     0,     0,     0,\n",
        "            0,     0,     1,     0,     0,     0,     0,     0,     0,\n",
        "            0,     0,     0,     0,     0,     1,     0,     0,     0,\n",
        "            0,     0,     0,     0,     0,     0,     0,     0,     0,\n",
        "            0,     0,     0,     0,     0,     0,     0,     0,     0,\n",
        "            0,     0,     0,     0,     0,     0,     0,     0,     0,\n",
        "            0,     0,     0,     0,     0,     0,     0,     0,     0,\n",
        "            0,     0,     0,     0,     0,     0,     0,     0,     0,\n",
        "            0,     0,     0,     0,     0,     0,     0,     0,     0,\n",
        "            0,     0,     0,     0,     0,     0,     0,     0,     0,     1]),\n",
        " array([  4.24461270e-46,   3.87648780e+07,   7.75297560e+07,\n",
        "          1.16294634e+08,   1.55059512e+08,   1.93824390e+08,\n",
        "          2.32589268e+08,   2.71354146e+08,   3.10119024e+08,\n",
        "          3.48883902e+08,   3.87648780e+08,   4.26413658e+08,\n",
        "          4.65178536e+08,   5.03943414e+08,   5.42708292e+08,\n",
        "          5.81473170e+08,   6.20238048e+08,   6.59002926e+08,\n",
        "          6.97767804e+08,   7.36532682e+08,   7.75297560e+08,\n",
        "          8.14062438e+08,   8.52827316e+08,   8.91592194e+08,\n",
        "          9.30357072e+08,   9.69121950e+08,   1.00788683e+09,\n",
        "          1.04665171e+09,   1.08541658e+09,   1.12418146e+09,\n",
        "          1.16294634e+09,   1.20171122e+09,   1.24047610e+09,\n",
        "          1.27924097e+09,   1.31800585e+09,   1.35677073e+09,\n",
        "          1.39553561e+09,   1.43430049e+09,   1.47306536e+09,\n",
        "          1.51183024e+09,   1.55059512e+09,   1.58936000e+09,\n",
        "          1.62812488e+09,   1.66688975e+09,   1.70565463e+09,\n",
        "          1.74441951e+09,   1.78318439e+09,   1.82194927e+09,\n",
        "          1.86071414e+09,   1.89947902e+09,   1.93824390e+09,\n",
        "          1.97700878e+09,   2.01577366e+09,   2.05453853e+09,\n",
        "          2.09330341e+09,   2.13206829e+09,   2.17083317e+09,\n",
        "          2.20959805e+09,   2.24836292e+09,   2.28712780e+09,\n",
        "          2.32589268e+09,   2.36465756e+09,   2.40342244e+09,\n",
        "          2.44218731e+09,   2.48095219e+09,   2.51971707e+09,\n",
        "          2.55848195e+09,   2.59724683e+09,   2.63601170e+09,\n",
        "          2.67477658e+09,   2.71354146e+09,   2.75230634e+09,\n",
        "          2.79107122e+09,   2.82983609e+09,   2.86860097e+09,\n",
        "          2.90736585e+09,   2.94613073e+09,   2.98489561e+09,\n",
        "          3.02366048e+09,   3.06242536e+09,   3.10119024e+09,\n",
        "          3.13995512e+09,   3.17872000e+09,   3.21748487e+09,\n",
        "          3.25624975e+09,   3.29501463e+09,   3.33377951e+09,\n",
        "          3.37254439e+09,   3.41130926e+09,   3.45007414e+09,\n",
        "          3.48883902e+09,   3.52760390e+09,   3.56636878e+09,\n",
        "          3.60513365e+09,   3.64389853e+09,   3.68266341e+09,\n",
        "          3.72142829e+09,   3.76019317e+09,   3.79895804e+09,\n",
        "          3.83772292e+09,   3.87648780e+09]),\n",
        " <a list of 100 Patch objects>)"
       ]
      }
     ],
     "prompt_number": 75
    },
    {
     "cell_type": "code",
     "collapsed": false,
     "input": [
      "print c\n",
      "hist(ra)"
     ],
     "language": "python",
     "metadata": {},
     "outputs": [
      {
       "output_type": "stream",
       "stream": "stdout",
       "text": [
        "0.4999995\n"
       ]
      },
      {
       "metadata": {},
       "output_type": "pyout",
       "prompt_number": 55,
       "text": [
        "(array([ 990, 1011, 1009,  982, 1026, 1025, 1057,  975,  971,  954]),\n",
        " array([  9.67781081e-06,   5.00039451e-02,   9.99982125e-02,\n",
        "          1.49992480e-01,   1.99986747e-01,   2.49981014e-01,\n",
        "          2.99975282e-01,   3.49969549e-01,   3.99963816e-01,\n",
        "          4.49958084e-01,   4.99952351e-01]),\n",
        " <a list of 10 Patch objects>)"
       ]
      },
      {
       "metadata": {},
       "output_type": "display_data",
       "png": "[encoded data removed]",
       "text": [
        "<matplotlib.figure.Figure at 0x68fccd0>"
       ]
      }
     ],
     "prompt_number": 55
    },
    {
     "cell_type": "code",
     "collapsed": false,
     "input": [
      "def f(r,cmax):\n",
      "    return sqrt(1./(2*r+cmax))"
     ],
     "language": "python",
     "metadata": {},
     "outputs": [],
     "prompt_number": 57
    },
    {
     "cell_type": "code",
     "collapsed": false,
     "input": [
      "ar= f(ra,c)\n",
      "hs=hist(ar)"
     ],
     "language": "python",
     "metadata": {},
     "outputs": [
      {
       "metadata": {},
       "output_type": "display_data",
       "png": "[encoded data removed]",
       "text": [
        "<matplotlib.figure.Figure at 0x79fc050>"
       ]
      }
     ],
     "prompt_number": 58
    },
    {
     "cell_type": "code",
     "collapsed": false,
     "input": [
      "plot((hs[1][1:]),hs[0],'o')\n",
      "xscale('log')\n",
      "yscale('log')\n",
      "x1=linspace(.8,1.5,10)\n",
      "plot(x1,1000/x1)\n",
      "plot(x1,1000/x1**3)\n",
      "xlim(.5,2)"
     ],
     "language": "python",
     "metadata": {},
     "outputs": [
      {
       "metadata": {},
       "output_type": "pyout",
       "prompt_number": 67,
       "text": [
        "(0.5, 2)"
       ]
      },
      {
       "metadata": {},
       "output_type": "display_data",
       "png": "[encoded data removed]",
       "text": [
        "<matplotlib.figure.Figure at 0x5a88f70>"
       ]
      }
     ],
     "prompt_number": 67
    },
    {
     "cell_type": "code",
     "collapsed": false,
     "input": [
      "plot(log(hs[1][1:]),hs[0])"
     ],
     "language": "python",
     "metadata": {},
     "outputs": [
      {
       "metadata": {},
       "output_type": "pyout",
       "prompt_number": 18,
       "text": [
        "[<matplotlib.lines.Line2D at 0x33512d0>]"
       ]
      },
      {
       "metadata": {},
       "output_type": "display_data",
       "png": "[encoded data removed]",
       "text": [
        "<matplotlib.figure.Figure at 0x322d450>"
       ]
      }
     ],
     "prompt_number": 18
    },
    {
     "cell_type": "code",
     "collapsed": false,
     "input": [],
     "language": "python",
     "metadata": {},
     "outputs": []
    }
   ],
   "metadata": {}
  }
 ]
}