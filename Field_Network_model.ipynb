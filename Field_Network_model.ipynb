{
 "metadata": {
  "name": "",
  "signature": "sha256:85258fc8160c55436049f0434f260b3986b1dd7f23b80a9775f11c0ef79a3c80"
 },
 "nbformat": 3,
 "nbformat_minor": 0,
 "worksheets": [
  {
   "cells": [
    {
     "cell_type": "code",
     "collapsed": false,
     "input": [
      "#from pylab import *\n",
      "%pylab inline\n",
      "\n",
      "def Dist2(x):\n",
      "    \"\"\"Matrix of Euclidean distances. each row of x treated as a vector\n",
      "    \"\"\"\n",
      "    d=maximum(0,-2*x.dot(x.T)+(x**2).sum(axis=1)\n",
      "              +(x**2).sum(axis=1).reshape([x.shape[0],1]));\n",
      "    return d\n",
      "\n",
      "def Net(n=1000, dim=3, par=1, num=10, pwr=0):\n",
      "    net=0;\n",
      "    for i in range(num):\n",
      "        x= rand(n,dim);\n",
      "        #d=absolute(x-x.reshape([n,1]));\n",
      "        d2=Dist2(x)\n",
      "        net+= Gr(d2, par=par, pwr=pwr); #the Greens function weight\n",
      "        print 'realization',i\n",
      "    net=net/num\n",
      "    print \"Net generated\"\n",
      "    return net\n",
      "\n",
      "def Hst(netz, typ='loglog',style='ro',bins=40):\n",
      "    figure();\n",
      "    #hst=hist(net.reshape(net.shape[0]**2,),bins=40)\n",
      "    hst=hist(netz.sum(axis=1),bins=bins)\n",
      "    if typ=='loglog':loglog(hst[1][:-1],hst[0],style);\n",
      "    else: plot(hst[1][:-1],hst[0],style);\n",
      "    show()\n",
      "\n",
      "def Deg(x):\n",
      "    return x.sum(axis=1)\n",
      "\n",
      "def Gr(d2, par=1,pwr=0): #Green's function\n",
      "    if pwr:\n",
      "        gr= 1/(d2**par/2+10**8);\n",
      "    else:gr= exp(-par * sqrt(d2))\n",
      "    #gr= exp(- par * d)\n",
      "    return gr\n",
      "\n",
      "print \"OK, go!\"\n",
      "net1=Net(par=5)\n",
      "Hst(net1)\n",
      "#print \"Net generated\"\n",
      "#y=hist(net.reshape(net.shape[0]**2,),bins=40)\n",
      "#print(\"histogram\")\n",
      "#figure();loglog(y[1][:-1],y[0],'ro')\n",
      "#show()\n"
     ],
     "language": "python",
     "metadata": {},
     "outputs": [
      {
       "output_type": "stream",
       "stream": "stdout",
       "text": [
        "Populating the interactive namespace from numpy and matplotlib\n",
        "OK, go!\n",
        "realization"
       ]
      },
      {
       "output_type": "stream",
       "stream": "stdout",
       "text": [
        " 0\n",
        "realization"
       ]
      },
      {
       "output_type": "stream",
       "stream": "stdout",
       "text": [
        " 1\n",
        "realization"
       ]
      },
      {
       "output_type": "stream",
       "stream": "stdout",
       "text": [
        " 2\n",
        "realization"
       ]
      },
      {
       "output_type": "stream",
       "stream": "stdout",
       "text": [
        " 3\n",
        "realization"
       ]
      },
      {
       "output_type": "stream",
       "stream": "stdout",
       "text": [
        " 4\n",
        "realization"
       ]
      },
      {
       "output_type": "stream",
       "stream": "stdout",
       "text": [
        " 5\n",
        "realization"
       ]
      },
      {
       "output_type": "stream",
       "stream": "stdout",
       "text": [
        " 6\n",
        "realization"
       ]
      },
      {
       "output_type": "stream",
       "stream": "stdout",
       "text": [
        " 7\n",
        "realization"
       ]
      },
      {
       "output_type": "stream",
       "stream": "stdout",
       "text": [
        " 8\n",
        "realization"
       ]
      },
      {
       "output_type": "stream",
       "stream": "stdout",
       "text": [
        " 9\n",
        "Net generated\n"
       ]
      },
      {
       "metadata": {},
       "output_type": "display_data",
       "png": "[encoded data removed]",
       "text": [
        "<matplotlib.figure.Figure at 0x50609f0>"
       ]
      }
     ],
     "prompt_number": 1
    },
    {
     "cell_type": "code",
     "collapsed": false,
     "input": [],
     "language": "python",
     "metadata": {},
     "outputs": []
    }
   ],
   "metadata": {}
  }
 ]
}